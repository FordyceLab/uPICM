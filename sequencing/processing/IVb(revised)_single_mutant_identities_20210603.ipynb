{
 "cells": [
  {
   "cell_type": "code",
   "execution_count": 740,
   "metadata": {},
   "outputs": [],
   "source": [
    "# General Python\n",
    "import sys\n",
    "import os\n",
    "sys.path.append('./')\n",
    "\n",
    "# Data structures\n",
    "import numpy as np\n",
    "from matplotlib import pyplot as plt\n",
    "import matplotlib as mpl\n",
    "dpi = 200\n",
    "mpl.rc(\"savefig\", dpi=dpi)\n",
    "%matplotlib inline\n",
    "from scipy.stats.stats import pearsonr\n",
    "from scipy.stats.stats import spearmanr\n",
    "from scipy import stats\n",
    "from scipy.optimize import curve_fit\n",
    "from scipy.optimize import leastsq\n",
    "import seaborn as sns\n",
    "import math\n",
    "import re\n",
    "\n",
    "from lmfit import minimize, Parameters, report_fit\n",
    "from matplotlib.colors import LogNorm\n",
    "\n",
    "#additional imports\n",
    "import pandas as pd\n",
    "from Bio import SeqIO, SeqRecord,Seq\n",
    "import mkl_random\n",
    "import random\n",
    "\n",
    "import os\n",
    "import subprocess\n",
    "from Bio import Entrez, SeqIO\n",
    "from copy import deepcopy\n",
    "from pathlib import Path\n",
    "\n",
    "import datetime\n",
    "import time\n",
    "import json\n",
    "from sklearn.cluster import AgglomerativeClustering\n",
    "from sklearn.metrics import pairwise_distances\n",
    "from Bio.Seq import Seq\n",
    "from Bio.SeqRecord import SeqRecord\n",
    "\n",
    "import seaborn as sb\n",
    "\n",
    "import re\n"
   ]
  },
  {
   "cell_type": "markdown",
   "metadata": {},
   "source": [
    "## Define plotting functions"
   ]
  },
  {
   "cell_type": "code",
   "execution_count": 741,
   "metadata": {},
   "outputs": [],
   "source": [
    "#input desired subsetted mutagenesis window, plate number as ID, and subsetted dataframe\n",
    "#return a histogram representing counts of mutants at each position within the window\n",
    "#and among categories of variants outside the window/not single AA changes\n",
    "def makeVariantHist(windowNum, plateNum, inputDF):\n",
    "    #assign mutational region based on input to imports above (where windowNum is specified)\n",
    "    residue_start = mutationD[windowNum][0]\n",
    "    residue_end=mutationD[windowNum][1]\n",
    "\n",
    "    #make list used for bar chart labels, these are categories that will be grouped from \n",
    "    #multiple residue positions\n",
    "    variant_list=['WT', 'indel','5-UTR','outside']\n",
    "\n",
    "    #create list of individual AA positions that will be counted for this plot\n",
    "    #list of AA residues in window\n",
    "    aa_list= list(mutationD[windowNum][2])\n",
    "    #list of numerical positions of each residue\n",
    "    aa_num_list=range(residue_start, residue_end+1)\n",
    "    #concatenated item by item to give list of aa+pos for all residues in window\n",
    "    res_list= [i + str(j) for i,j in zip (aa_list, aa_num_list)]\n",
    "\n",
    "    #extend grouped residue categories list with individual AAs\n",
    "    variant_list.extend(res_list)\n",
    "\n",
    "    #create new dataframe and add contents of residue/grouped residue containing list\n",
    "    plotDF=pd.DataFrame()\n",
    "    plotDF['Genotype']=variant_list\n",
    "\n",
    "    #make list of all mutated sites\n",
    "    single_sub_sites=[]\n",
    "\n",
    "    #pick out positions from substitution dataframe\n",
    "    for index, val in inputDF.iterrows():\n",
    "        sub=str(val.amino_acid_sub)\n",
    "        codon_num=val.codon\n",
    "\n",
    "        if codon_num==0:\n",
    "            single_sub_sites.append(\"WT\")\n",
    "        if codon_num== -2:\n",
    "            single_sub_sites.append(\"indel\")\n",
    "        if codon_num== -1:\n",
    "            single_sub_sites.append(\"5-UTR\")\n",
    "\n",
    "        if \"_\" in sub:\n",
    "            sub_list=sub.split('_')\n",
    "            aa_num_corrected=int(sub_list[1])\n",
    "            ref_pos=str(sub_list[0])+str(aa_num_corrected)\n",
    "\n",
    "            if ((aa_num_corrected > residue_end) or (aa_num_corrected < residue_start)) and aa_num_corrected >-1:\n",
    "                single_sub_sites.append(\"outside\")\n",
    "\n",
    "            else:\n",
    "                single_sub_sites.append(ref_pos)\n",
    "\n",
    "    #count occurences of each and add to dataframe containing reference seq\n",
    "    count=[]\n",
    "    for index, val in plotDF.iterrows():\n",
    "        num_elements=single_sub_sites.count(val.Genotype)\n",
    "        count.append(num_elements)\n",
    "\n",
    "    plotDF['count']=count\n",
    "    \n",
    "    #make fig and ax\n",
    "    fig=plt.figure(figsize=(20,10))\n",
    "    ax=plt.gca()\n",
    "    \n",
    "    #make bar plot using genotype and count data\n",
    "    ax.bar(list(plotDF['Genotype']),list(plotDF['count']), color='dodgerblue')\n",
    "    \n",
    "    #make string for title\n",
    "    title=\"Plate \" + str(plateNum) + \": Count of SpAP WT, indel and point mutants (n = \"+str(len(inputDF))+\" variants from \"+str(dataDF['i7_barcode'].nunique())+\" barcodes)\"\n",
    "\n",
    "    plt.ylabel('count',fontsize=24)\n",
    "    plt.yticks(np.arange(0, plotDF['count'].max(), 5), fontsize=16)\n",
    "    plt.xlabel('Residue (SpAP window '+str(windowNum)+\", \" +str(residue_start)+\"-\"+str(residue_end)+')',fontsize=24)\n",
    "    plt.xticks(rotation=45, fontsize=16)\n",
    "    plt.title(title, fontsize=24)\n",
    "    plt.tight_layout()\n",
    "    plt.close()\n",
    "    return fig"
   ]
  },
  {
   "cell_type": "code",
   "execution_count": 742,
   "metadata": {},
   "outputs": [],
   "source": [
    "#input desired subsetted mutagenesis window, plate number as ID, and subsetted dataframe\n",
    "#return a histogram representing counts of mutants at each position within the window\n",
    "#and among categories of variants outside the window/not single AA changes\n",
    "def makeVariantHist_full(inputDF):\n",
    "    #assign mutational region based on input to imports above (where windowNum is specified)\n",
    "    residue_start = 1\n",
    "    residue_end=542\n",
    "\n",
    "    #make list used for bar chart labels, these are categories that will be grouped from \n",
    "    #multiple residue positions\n",
    "    variant_list=['WT', 'indel','5-UTR','outside']\n",
    "\n",
    "    #create list of individual AA positions that will be counted for this plot\n",
    "    #list of AA residues in window\n",
    "    aa_list= protein\n",
    "    #list of numerical positions of each residue\n",
    "    aa_num_list=range(residue_start, residue_end+1)\n",
    "    #concatenated item by item to give list of aa+pos for all residues in window\n",
    "    res_list= [i + str(j) for i,j in zip (aa_list, aa_num_list)]\n",
    "\n",
    "    #extend grouped residue categories list with individual AAs\n",
    "    variant_list.extend(res_list)\n",
    "\n",
    "    #create new dataframe and add contents of residue/grouped residue containing list\n",
    "    plotDF=pd.DataFrame()\n",
    "    plotDF['Genotype']=variant_list\n",
    "\n",
    "    #make list of all mutated sites\n",
    "    single_sub_sites=[]\n",
    "\n",
    "    #pick out positions from substitution dataframe\n",
    "    for index, val in inputDF.iterrows():\n",
    "        sub=str(val.amino_acid_sub)\n",
    "        codon_num=val.codon\n",
    "\n",
    "        if codon_num==0:\n",
    "            single_sub_sites.append(\"WT\")\n",
    "        if codon_num== -2:\n",
    "            single_sub_sites.append(\"indel\")\n",
    "        if codon_num== -1:\n",
    "            single_sub_sites.append(\"5-UTR\")\n",
    "\n",
    "        if \"_\" in sub:\n",
    "            sub_list=sub.split('_')\n",
    "            aa_num_corrected=int(sub_list[1])\n",
    "            ref_pos=str(sub_list[0])+str(aa_num_corrected)\n",
    "\n",
    "            if ((aa_num_corrected > residue_end) or (aa_num_corrected < residue_start)) and aa_num_corrected >-1:\n",
    "                single_sub_sites.append(\"outside\")\n",
    "\n",
    "            else:\n",
    "                single_sub_sites.append(ref_pos)\n",
    "\n",
    "    #count occurences of each and add to dataframe containing reference seq\n",
    "    count=[]\n",
    "    for index, val in plotDF.iterrows():\n",
    "        num_elements=single_sub_sites.count(val.Genotype)\n",
    "        count.append(num_elements)\n",
    "\n",
    "    plotDF['count']=count\n",
    "    plotDF = plotDF[plotDF.Genotype != 'WT']\n",
    "    plotDF = plotDF[plotDF.Genotype != 'indel']\n",
    "    plotDF = plotDF[plotDF.Genotype != '5-UTR']\n",
    "    plotDF = plotDF[plotDF.Genotype != 'outside']   \n",
    "    #make fig and ax\n",
    "    fig=plt.figure(figsize=(60,10))\n",
    "    ax=plt.gca()\n",
    "    \n",
    "    #make bar plot using genotype and count data\n",
    "    ax.bar(list(plotDF['Genotype']),list(plotDF['count']), color='dodgerblue')\n",
    "    \n",
    "    #make string for title\n",
    "    title=\"All single variant mutants across SpAP windows 1-13\"\n",
    "\n",
    "    plt.ylabel('count',fontsize=24)\n",
    "    plt.yticks(np.arange(0, plotDF['count'].max(), 5), fontsize=24)\n",
    "    plt.xlabel('Residue (SpAP All, residues 2-542)',fontsize=18)\n",
    "    plt.xticks(ticks = ['M1','G542'],rotation=45, fontsize=24)\n",
    "    plt.title(title, fontsize=24)\n",
    "    plt.tight_layout()\n",
    "    plt.close()\n",
    "    return fig"
   ]
  },
  {
   "cell_type": "markdown",
   "metadata": {},
   "source": [
    "## 2. Import csvs from mutant calling notebook"
   ]
  },
  {
   "cell_type": "code",
   "execution_count": 743,
   "metadata": {},
   "outputs": [],
   "source": [
    "#import dataframe containing lists of mutants with single AA substitutions\n",
    "combinedDF=pd.read_csv('/Users/mja/Appel_MutSequencing/2021_mut_seq_workup_II/analyses_from_py_notebooks/with_unpaired/mutant_calling/csv_files/plates_1-13_mutant_calling_all_AA_subs.csv')"
   ]
  },
  {
   "cell_type": "code",
   "execution_count": 744,
   "metadata": {},
   "outputs": [
    {
     "data": {
      "text/html": [
       "<div>\n",
       "<style scoped>\n",
       "    .dataframe tbody tr th:only-of-type {\n",
       "        vertical-align: middle;\n",
       "    }\n",
       "\n",
       "    .dataframe tbody tr th {\n",
       "        vertical-align: top;\n",
       "    }\n",
       "\n",
       "    .dataframe thead th {\n",
       "        text-align: right;\n",
       "    }\n",
       "</style>\n",
       "<table border=\"1\" class=\"dataframe\">\n",
       "  <thead>\n",
       "    <tr style=\"text-align: right;\">\n",
       "      <th></th>\n",
       "      <th>Unnamed: 0</th>\n",
       "      <th>codon</th>\n",
       "      <th>refSeq</th>\n",
       "      <th>altSeq</th>\n",
       "      <th>filter</th>\n",
       "      <th>fw_WT</th>\n",
       "      <th>rv_WT</th>\n",
       "      <th>fw_alt</th>\n",
       "      <th>rv_alt</th>\n",
       "      <th>position</th>\n",
       "      <th>i7_barcode</th>\n",
       "      <th>barcode_codon_index</th>\n",
       "      <th>amino_acid_sub</th>\n",
       "      <th>WT_sum</th>\n",
       "      <th>var_sum</th>\n",
       "      <th>ratio_var</th>\n",
       "      <th>plate</th>\n",
       "      <th>well</th>\n",
       "    </tr>\n",
       "  </thead>\n",
       "  <tbody>\n",
       "    <tr>\n",
       "      <th>0</th>\n",
       "      <td>0</td>\n",
       "      <td>28</td>\n",
       "      <td>A</td>\n",
       "      <td>G</td>\n",
       "      <td>228.0</td>\n",
       "      <td>1</td>\n",
       "      <td>0</td>\n",
       "      <td>110</td>\n",
       "      <td>53</td>\n",
       "      <td>154</td>\n",
       "      <td>1001</td>\n",
       "      <td>1001_28</td>\n",
       "      <td>I_28_V</td>\n",
       "      <td>0</td>\n",
       "      <td>81</td>\n",
       "      <td>inf</td>\n",
       "      <td>1</td>\n",
       "      <td>233</td>\n",
       "    </tr>\n",
       "    <tr>\n",
       "      <th>1</th>\n",
       "      <td>1</td>\n",
       "      <td>15</td>\n",
       "      <td>C</td>\n",
       "      <td>G</td>\n",
       "      <td>225.0</td>\n",
       "      <td>0</td>\n",
       "      <td>0</td>\n",
       "      <td>11</td>\n",
       "      <td>10</td>\n",
       "      <td>115</td>\n",
       "      <td>1002</td>\n",
       "      <td>1002_15</td>\n",
       "      <td>R_15_V</td>\n",
       "      <td>0</td>\n",
       "      <td>21</td>\n",
       "      <td>inf</td>\n",
       "      <td>1</td>\n",
       "      <td>234</td>\n",
       "    </tr>\n",
       "    <tr>\n",
       "      <th>2</th>\n",
       "      <td>2</td>\n",
       "      <td>8</td>\n",
       "      <td>C</td>\n",
       "      <td>T</td>\n",
       "      <td>228.0</td>\n",
       "      <td>3</td>\n",
       "      <td>7</td>\n",
       "      <td>309</td>\n",
       "      <td>175</td>\n",
       "      <td>95</td>\n",
       "      <td>1003</td>\n",
       "      <td>1003_8</td>\n",
       "      <td>A_8_V</td>\n",
       "      <td>10</td>\n",
       "      <td>485</td>\n",
       "      <td>48.5</td>\n",
       "      <td>1</td>\n",
       "      <td>235</td>\n",
       "    </tr>\n",
       "    <tr>\n",
       "      <th>3</th>\n",
       "      <td>3</td>\n",
       "      <td>15</td>\n",
       "      <td>C</td>\n",
       "      <td>G</td>\n",
       "      <td>172.0</td>\n",
       "      <td>1</td>\n",
       "      <td>0</td>\n",
       "      <td>7</td>\n",
       "      <td>2</td>\n",
       "      <td>115</td>\n",
       "      <td>1006</td>\n",
       "      <td>1006_15</td>\n",
       "      <td>R_15_V</td>\n",
       "      <td>1</td>\n",
       "      <td>9</td>\n",
       "      <td>9.0</td>\n",
       "      <td>1</td>\n",
       "      <td>238</td>\n",
       "    </tr>\n",
       "    <tr>\n",
       "      <th>4</th>\n",
       "      <td>4</td>\n",
       "      <td>23</td>\n",
       "      <td>A</td>\n",
       "      <td>G</td>\n",
       "      <td>228.0</td>\n",
       "      <td>1</td>\n",
       "      <td>0</td>\n",
       "      <td>258</td>\n",
       "      <td>92</td>\n",
       "      <td>139</td>\n",
       "      <td>1007</td>\n",
       "      <td>1007_23</td>\n",
       "      <td>K_23_V</td>\n",
       "      <td>1</td>\n",
       "      <td>519</td>\n",
       "      <td>519.0</td>\n",
       "      <td>1</td>\n",
       "      <td>239</td>\n",
       "    </tr>\n",
       "  </tbody>\n",
       "</table>\n",
       "</div>"
      ],
      "text/plain": [
       "   Unnamed: 0 codon refSeq altSeq  filter  fw_WT  rv_WT  fw_alt  rv_alt  \\\n",
       "0           0    28      A      G   228.0      1      0     110      53   \n",
       "1           1    15      C      G   225.0      0      0      11      10   \n",
       "2           2     8      C      T   228.0      3      7     309     175   \n",
       "3           3    15      C      G   172.0      1      0       7       2   \n",
       "4           4    23      A      G   228.0      1      0     258      92   \n",
       "\n",
       "   position  i7_barcode barcode_codon_index amino_acid_sub  WT_sum  var_sum  \\\n",
       "0       154        1001             1001_28         I_28_V       0       81   \n",
       "1       115        1002             1002_15         R_15_V       0       21   \n",
       "2        95        1003              1003_8          A_8_V      10      485   \n",
       "3       115        1006             1006_15         R_15_V       1        9   \n",
       "4       139        1007             1007_23         K_23_V       1      519   \n",
       "\n",
       "   ratio_var  plate  well  \n",
       "0        inf      1   233  \n",
       "1        inf      1   234  \n",
       "2       48.5      1   235  \n",
       "3        9.0      1   238  \n",
       "4      519.0      1   239  "
      ]
     },
     "execution_count": 744,
     "metadata": {},
     "output_type": "execute_result"
    }
   ],
   "source": [
    "combinedDF.head()"
   ]
  },
  {
   "cell_type": "markdown",
   "metadata": {},
   "source": [
    "## 3. Generate dataframes with variants 1, 2, 3 or more substitutions"
   ]
  },
  {
   "cell_type": "code",
   "execution_count": 745,
   "metadata": {},
   "outputs": [
    {
     "name": "stdout",
     "output_type": "stream",
     "text": [
      "3029\n",
      "2056\n",
      "761\n",
      "212\n"
     ]
    }
   ],
   "source": [
    "print(combinedDF['i7_barcode'].nunique())\n",
    "#get barcodes with only one variant\n",
    "singlesDF=combinedDF.groupby('i7_barcode').filter(lambda x: len(x) < 2)\n",
    "# singlesDF=singlesDF.loc[singlesDF['ratio_var']>100]\n",
    "print(singlesDF['i7_barcode'].nunique())\n",
    "\n",
    "#get barcodes with two variants\n",
    "doublesDF=combinedDF.groupby('i7_barcode').filter(lambda x: len(x) == 2)\n",
    "print(doublesDF['i7_barcode'].nunique())\n",
    "\n",
    "\n",
    "triplesDF=combinedDF.groupby('i7_barcode').filter(lambda x: len(x) > 2)\n",
    "print(triplesDF['i7_barcode'].nunique())\n",
    "\n",
    "\n",
    "# 3029\n",
    "# 2056\n",
    "# 761\n",
    "# 212\n",
    "\n"
   ]
  },
  {
   "cell_type": "code",
   "execution_count": 746,
   "metadata": {},
   "outputs": [
    {
     "name": "stdout",
     "output_type": "stream",
     "text": [
      "2056\n"
     ]
    }
   ],
   "source": [
    "print(len(singlesDF))"
   ]
  },
  {
   "cell_type": "markdown",
   "metadata": {},
   "source": [
    "## Rough estimate whether doubles are same read (linked) or not"
   ]
  },
  {
   "cell_type": "code",
   "execution_count": 808,
   "metadata": {},
   "outputs": [
    {
     "data": {
      "text/plain": [
       "<Figure size 432x288 with 0 Axes>"
      ]
     },
     "metadata": {},
     "output_type": "display_data"
    },
    {
     "data": {
      "image/png": "[encoded data removed]",
      "text/plain": [
       "<Figure size 288x216 with 1 Axes>"
      ]
     },
     "metadata": {
      "needs_background": "light"
     },
     "output_type": "display_data"
    }
   ],
   "source": [
    "#set the value globally\n",
    "plt.rcParams['axes.linewidth'] = 1 \n",
    "singles_ratio = singlesDF['ratio_var'].tolist()\n",
    "singles_ratio_no_inf=[]\n",
    "\n",
    "\n",
    "for i in singles_ratio:\n",
    "    #for reads with infinite ratio, convert to 100\n",
    "    if i > 10e8:\n",
    "        singles_ratio_no_inf.append(100)\n",
    "    else:\n",
    "        singles_ratio_no_inf.append(i)\n",
    "        \n",
    "doubles_ratio = doublesDF['ratio_var'].tolist()\n",
    "doubles_ratio_no_inf=[]\n",
    "for i in doubles_ratio:\n",
    "    #for reads with infinite ratio, convert to 100\n",
    "    if i > 10e8:\n",
    "        doubles_ratio_no_inf.append(100)\n",
    "    else:\n",
    "        doubles_ratio_no_inf.append(i)\n",
    "        \n",
    "triples_ratio = triplesDF['ratio_var'].tolist()\n",
    "\n",
    "triples_ratio_no_inf=[]\n",
    "for i in triples_ratio:\n",
    "    #for reads with infinite ratio, convert to 100\n",
    "    if i > 10e8:\n",
    "        triples_ratio_no_inf.append(100)\n",
    "    else:\n",
    "        triples_ratio_no_inf.append(i)\n",
    "#make histogram\n",
    "plt.clf()\n",
    "plt.figure(figsize=(4,3))\n",
    "plt.hist(singles_ratio_no_inf, bins=np.arange(0,1500,50), alpha=0.5, color='black', edgecolor='k',label=\"single (n=2056)\")\n",
    "plt.hist(doubles_ratio_no_inf, bins=np.arange(0,1500,50), alpha=0.5, color='orange',edgecolor='k', label=\"double (n=761)\")\n",
    "plt.hist(triples_ratio_no_inf, bins=np.arange(0,1500,50), alpha=0.5, color='blue',edgecolor='k', label=\"triple (n=212)\")\n",
    "plt.legend(loc='upper right')\n",
    "plt.xlabel(\"var:WT ratio\")\n",
    "plt.ylabel(\"count\")\n",
    "# plt.xlim(0,200)\n",
    "plt.tight_layout()\n",
    "\n",
    "# plt.savefig('/Users/mja/Appel_MutSequencing/2021_mut_seq_workup_II/analyses_from_py_notebooks/with_unpaired/mutant_calling/csv_files/origin_of_doubles/20210604_singles-doubles-triples_histogram_ratio.png')\n",
    "# plt.savefig('/Users/mja/Appel_MutSequencing/2021_mut_seq_workup_II/analyses_from_py_notebooks/with_unpaired/mutant_calling/csv_files/origin_of_doubles/20210604_singles-doubles-triples_histogram_ratio.pdf')"
   ]
  },
  {
   "cell_type": "code",
   "execution_count": 818,
   "metadata": {},
   "outputs": [
    {
     "data": {
      "text/plain": [
       "<Figure size 432x288 with 0 Axes>"
      ]
     },
     "metadata": {},
     "output_type": "display_data"
    },
    {
     "data": {
      "image/png": "[encoded data removed]",
      "text/plain": [
       "<Figure size 288x216 with 1 Axes>"
      ]
     },
     "metadata": {
      "needs_background": "light"
     },
     "output_type": "display_data"
    }
   ],
   "source": [
    "#set the value globally\n",
    "plt.rcParams['axes.linewidth'] = 1 \n",
    "singles_ratio = singlesDF['ratio_var'].tolist()\n",
    "singles_ratio_no_inf=[]\n",
    "\n",
    "\n",
    "for i in singles_ratio:\n",
    "    #for reads with infinite ratio, convert to 100\n",
    "    if i > 10e8:\n",
    "        singles_ratio_no_inf.append(100)\n",
    "    else:\n",
    "        singles_ratio_no_inf.append(i)\n",
    "        \n",
    "doubles_ratio = doublesDF['ratio_var'].tolist()\n",
    "doubles_ratio_no_inf=[]\n",
    "for i in doubles_ratio:\n",
    "    #for reads with infinite ratio, convert to 100\n",
    "    if i > 10e8:\n",
    "        doubles_ratio_no_inf.append(100)\n",
    "    else:\n",
    "        doubles_ratio_no_inf.append(i)\n",
    "        \n",
    "triples_ratio = triplesDF['ratio_var'].tolist()\n",
    "\n",
    "triples_ratio_no_inf=[]\n",
    "for i in triples_ratio:\n",
    "    #for reads with infinite ratio, convert to 100\n",
    "    if i > 10e8:\n",
    "        triples_ratio_no_inf.append(100)\n",
    "    else:\n",
    "        triples_ratio_no_inf.append(i)\n",
    "#make histogram\n",
    "plt.clf()\n",
    "plt.figure(figsize=(4,3))\n",
    "plt.hist(singles_ratio_no_inf, bins=25, alpha=0.5, color='black', edgecolor='k',label=\"single (n=2056)\")\n",
    "plt.hist(doubles_ratio_no_inf, bins=25, alpha=0.5, color='orange',edgecolor='k', label=\"double (n=761)\")\n",
    "plt.hist(triples_ratio_no_inf, bins=25, alpha=0.5, color='blue',edgecolor='k', label=\"triple (n=212)\")\n",
    "plt.legend(loc='upper right')\n",
    "plt.xlabel(\"var:WT ratio\")\n",
    "plt.ylabel(\"count\")\n",
    "# plt.xlim(0,200)\n",
    "plt.tight_layout()\n",
    "\n",
    "plt.savefig('/Users/mja/Appel_MutSequencing/2021_mut_seq_workup_II/analyses_from_py_notebooks/with_unpaired/mutant_calling/csv_files/origin_of_doubles/20210604_singles-doubles-triples_histogram_ratio.png')\n",
    "plt.savefig('/Users/mja/Appel_MutSequencing/2021_mut_seq_workup_II/analyses_from_py_notebooks/with_unpaired/mutant_calling/csv_files/origin_of_doubles/20210604_singles-doubles-triples_histogram_ratio.pdf')"
   ]
  },
  {
   "cell_type": "markdown",
   "metadata": {},
   "source": [
    "## 4. Determine which single substitutions are intended vs unintended"
   ]
  },
  {
   "cell_type": "markdown",
   "metadata": {},
   "source": [
    "### 4.1 -- Check that substitution is a) to the correct AA b) adjusted for locatin whether Val mutants, Ala mutants, or Ala-Ala synonymous mutants"
   ]
  },
  {
   "cell_type": "code",
   "execution_count": 768,
   "metadata": {},
   "outputs": [],
   "source": [
    "#cast codon as int\n",
    "singlesDF['codon'] = singlesDF['codon'].astype(np.int)\n",
    "\n",
    "#copy singles dataframe to new DF for adding columns after loop\n",
    "singlesDF_classified=singlesDF.copy()\n",
    "\n",
    "#specify filter level\n",
    "filter_level=0\n",
    "\n",
    "#cull dataframe by var:WT filter level if desired\n",
    "singlesDF_classified=singlesDF_classified.loc[singlesDF_classified['ratio_var'] >= filter_level]\n",
    "\n",
    "#create lists to store identity of substituted AA (observed) and substituted AA (expected)\n",
    "newAA_list=[]\n",
    "expectedAA_list=[]\n",
    "\n",
    "#iterate through dataframe to pull out observed and expected AAs for each codon\n",
    "for index,val in singlesDF_classified.iterrows():\n",
    "    \n",
    "    #pull out old/new AA from column contain substituion in format [old]_[#]_[new]\n",
    "    oldAA=val.amino_acid_sub.split('_')[0]\n",
    "    newAA=val.amino_acid_sub.split('_')[2]\n",
    "    newAA_list.append(newAA)\n",
    "    \n",
    "    #only desired codon subs between postions 2-542, so any codons mutated outside this window\n",
    "    #will be incorrect\n",
    "    if (val.codon >1) and (val.codon <= 542):\n",
    "       \n",
    "        #plates 1-8 encode val subs, unless val, in which case ala\n",
    "        if val.plate < 8:\n",
    "            if (oldAA == 'V'):\n",
    "                expectedAA='A'\n",
    "            else:\n",
    "                expectedAA='V'\n",
    "        \n",
    "        #other plates encode ala subs, and the accidental substition of ala with synonymous ala\n",
    "        else:\n",
    "            if (oldAA == 'A'):\n",
    "                expectedAA='A'\n",
    "            else:\n",
    "                expectedAA='A'\n",
    "    \n",
    "    #assign 'none' for codons outside of desired mutational window\n",
    "    else:\n",
    "        expectedAA='none'\n",
    "    \n",
    "    #add to expected AA list\n",
    "    expectedAA_list.append(expectedAA)\n",
    "    \n",
    "#add columns to df containing observed (new) and expected AAs\n",
    "singlesDF_classified['expected_AA']=expectedAA_list\n",
    "singlesDF_classified['new_AA']=newAA_list\n",
    "\n",
    "\n",
    "#use this operation to create a new column, whose value will be 'True' or 'False' based\n",
    "#on the comparison of the new and expected AA columns\n",
    "singlesDF_classified['intended']= singlesDF_classified['expected_AA'] == singlesDF_classified['new_AA']"
   ]
  },
  {
   "cell_type": "markdown",
   "metadata": {},
   "source": [
    "## 4.2 -- Flag mutants that may be correct based on above criteria, but in the wrong sublibrary location"
   ]
  },
  {
   "cell_type": "code",
   "execution_count": 769,
   "metadata": {},
   "outputs": [
    {
     "name": "stdout",
     "output_type": "stream",
     "text": [
      "Unnamed: 0                1277\n",
      "codon                       57\n",
      "refSeq                       T\n",
      "altSeq                       A\n",
      "filter                     225\n",
      "fw_WT                        0\n",
      "rv_WT                        0\n",
      "fw_alt                     880\n",
      "rv_alt                     439\n",
      "position                   243\n",
      "i7_barcode                2233\n",
      "barcode_codon_index    2233_57\n",
      "amino_acid_sub          A_57_A\n",
      "WT_sum                       0\n",
      "var_sum                    659\n",
      "ratio_var                  inf\n",
      "plate                       11\n",
      "well                       313\n",
      "expected_AA                  A\n",
      "new_AA                       A\n",
      "intended                  True\n",
      "Name: 1277, dtype: object\n",
      "Unnamed: 0                1277\n",
      "codon                       57\n",
      "refSeq                       T\n",
      "altSeq                       A\n",
      "filter                     225\n",
      "fw_WT                        0\n",
      "rv_WT                        0\n",
      "fw_alt                     880\n",
      "rv_alt                     439\n",
      "position                   243\n",
      "i7_barcode                2233\n",
      "barcode_codon_index    2233_57\n",
      "amino_acid_sub          A_57_A\n",
      "WT_sum                       0\n",
      "var_sum                    659\n",
      "ratio_var                  inf\n",
      "plate                       11\n",
      "well                       313\n",
      "expected_AA                  A\n",
      "new_AA                       A\n",
      "intended                 False\n",
      "Name: 1277, dtype: object\n"
     ]
    }
   ],
   "source": [
    "#define sublibrary boundaries\n",
    "mutationD={1:[2,41],\n",
    "           2:[42,89],\n",
    "           3:[90,137],\n",
    "           4:[138,185],\n",
    "           5:[186,232],\n",
    "           6:[233,279],\n",
    "           7:[280,326],\n",
    "           8:[327,356],\n",
    "           9:[357,402],\n",
    "           10:[403,448],\n",
    "           11:[449,491],\n",
    "           12:[492,517],\n",
    "           13:[518,542]\n",
    "          }\n",
    "\n",
    "#store flagged indexes in list (not specifically barcodes)\n",
    "flaggedIndexes=[]\n",
    "\n",
    "#check that observed mutants lie within the boundaries of the above sublibraries\n",
    "for i, j in mutationD.items():\n",
    "    \n",
    "    #make list of positions in this sublibary window\n",
    "    codonL=np.arange(j[0],j[1]+1)\n",
    "        \n",
    "    #select only rows from plate i\n",
    "    tempDF=singlesDF_classified.loc[singlesDF_classified['plate']==i]\n",
    "    \n",
    "    #get total count of intended singles\n",
    "    intendedTempDF=tempDF.loc[tempDF['intended']==True]\n",
    "    \n",
    "    \n",
    "    for index, entry in intendedTempDF.iterrows():\n",
    "        if entry.codon not in codonL:\n",
    "            flaggedIndexes.append(index)\n",
    "        else:\n",
    "            pass\n",
    "\n",
    "\n",
    "#go through dataframe and change true entry to false for any flagged barcodes\n",
    "for i in flaggedIndexes:\n",
    "    print(singlesDF_classified.loc[i])\n",
    "    singlesDF_classified.loc[i, 'intended']= False\n",
    "    print(singlesDF_classified.loc[i])"
   ]
  },
  {
   "cell_type": "markdown",
   "metadata": {},
   "source": [
    "### print summary stats and export csv"
   ]
  },
  {
   "cell_type": "code",
   "execution_count": 770,
   "metadata": {},
   "outputs": [
    {
     "name": "stdout",
     "output_type": "stream",
     "text": [
      "unintended:\n",
      "60\n",
      "intended:\n",
      "1996\n",
      "unique:\n",
      "507\n"
     ]
    }
   ],
   "source": [
    "#calculate number of intended vs unintended\n",
    "print(\"unintended:\")\n",
    "numUNintended= len(singlesDF_classified.loc[singlesDF_classified['intended']==False])\n",
    "print(numUNintended)\n",
    "print(\"intended:\")\n",
    "numIntended= len(singlesDF_classified.loc[singlesDF_classified['intended']==True])\n",
    "print(numIntended)\n",
    "\n",
    "#calculate number of unique singles that were intended\n",
    "intendedOnlyDF=singlesDF_classified.loc[singlesDF_classified['intended']==True]\n",
    "numUnique=intendedOnlyDF['amino_acid_sub'].nunique()\n",
    "print(\"unique:\")\n",
    "print(numUnique)\n",
    "\n",
    "#export this DF\n",
    "singlesDF_classified.to_csv('/Users/mja/Appel_MutSequencing/2021_mut_seq_workup_II/analyses_from_py_notebooks/with_unpaired/mutant_calling/csv_files/single_mutant_csvs/20210603_singles_'\\\n",
    "                            +str(len(singlesDF_classified))+\"_total_\" \\\n",
    "                            +str(numIntended)+\"_intended_\" \\\n",
    "                            +str(numUnique)+\"_unique_\" \\\n",
    "                            +str(filter_level)+'_threshold.csv')"
   ]
  },
  {
   "cell_type": "markdown",
   "metadata": {},
   "source": [
    "## Scatter plot of var reads vs wt reads for single mutants (plates 1-13)\n",
    "  \n",
    "-Use DF containing only single substitutions && only INTENDED single substitutions"
   ]
  },
  {
   "cell_type": "code",
   "execution_count": 792,
   "metadata": {},
   "outputs": [
    {
     "name": "stdout",
     "output_type": "stream",
     "text": [
      "1996\n",
      "507\n"
     ]
    }
   ],
   "source": [
    "#modify dataframes generated in above cell here for plotting if desired\n",
    "modifiedDF=intendedOnlyDF.copy()\n",
    "\n",
    "filter_level=0 #this is the number of minimum reads and the minimum ratio of var:WT reads\n",
    "\n",
    "modifiedDF_culled=modifiedDF.loc[(modifiedDF['var_sum']>=filter_level) & (modifiedDF['ratio_var']>=filter_level)]\n",
    "print(len(modifiedDF_culled))\n",
    "numUnique=modifiedDF_culled['amino_acid_sub'].nunique()\n",
    "print(numUnique)\n"
   ]
  },
  {
   "cell_type": "code",
   "execution_count": 793,
   "metadata": {},
   "outputs": [],
   "source": [
    "#filter levels to calculate for each sublibrary\n",
    "thresholds=[0,10,50,100,200,500,1000]\n",
    "\n",
    "##calculate single mutant yields per sublibrary \n",
    "platesL=np.arange(1,14)\n",
    "\n",
    "#make list of possible yields per sublibrary\n",
    "sublibtotalL=[40,48,48,48,47,47,47,30,46,46,43,26,25,25]\n",
    "\n",
    "#create dataframe to store stats\n",
    "singlesyieldfinalDF=pd.DataFrame()\n",
    "\n",
    "#add sublibrary/plate column to DF\n",
    "singlesyieldfinalDF['sublibrary']=platesL\n",
    "\n",
    "#use dataframe containing all intended single mutant subs to determine unique and yield for each\n",
    "#sublibrary\n",
    "for i in thresholds:\n",
    "    #make list to store unique mutants in each sublibrary\n",
    "    uniquepersubL=[]\n",
    "    #make list to store fractional yield for each sublibrary\n",
    "    fractionsubL=[]\n",
    "    \n",
    "    #formatted version with both values for manuscript table\n",
    "    formattedL=[]\n",
    "    \n",
    "    #loop through plates and calculate yields at a single threshold level\n",
    "    for plate in platesL:\n",
    "        uniquepersubNum=(intendedOnlyDF.loc[(intendedOnlyDF['var_sum']>=i) & (intendedOnlyDF['ratio_var']>=i)&(intendedOnlyDF['plate']==plate)])['amino_acid_sub'].nunique()\n",
    "        fracunique=round((uniquepersubNum/sublibtotalL[plate-1]),2)\n",
    "        formattedStr=str(uniquepersubNum)+\" (\"+str(fracunique)+\")\"\n",
    "\n",
    "        \n",
    "        #add stats to lists for this threshold level\n",
    "        uniquepersubL.append(uniquepersubNum)\n",
    "        fractionsubL.append(fracunique)\n",
    "        \n",
    "        #make formatted column ready for table in manuscript\n",
    "        formattedL.append(formattedStr)\n",
    "\n",
    "    #add yields to DF for this threshold\n",
    "    yield_col_name='yield_threshold_'+str(i)\n",
    "    fraction_col_name='yield_threshold_frac_'+str(i)\n",
    "    formatted_col_name='formated_'+str(i)\n",
    "    singlesyieldfinalDF[yield_col_name]=uniquepersubL\n",
    "    singlesyieldfinalDF[fraction_col_name]=fractionsubL\n",
    "    singlesyieldfinalDF[formatted_col_name]=formattedL\n",
    "#export csv with summary yields\n",
    "singlesyieldfinalDF.set_index('sublibrary', inplace=True)\n",
    "singlesyieldfinalDF.to_csv('/Users/mja/Appel_MutSequencing/2021_mut_seq_workup_II/analyses_from_py_notebooks/with_unpaired/mutant_calling/'+\n",
    "                           'csv_files/single_mutant_csvs/unique_intended_per_sublibrary_thresholds/'+\n",
    "                           '20210608_unique_intended_singles_per_sub_with_thresholds.csv')"
   ]
  },
  {
   "cell_type": "code",
   "execution_count": 778,
   "metadata": {},
   "outputs": [
    {
     "name": "stderr",
     "output_type": "stream",
     "text": [
      "/Users/mja/opt/miniconda3/envs/mutseq/lib/python3.8/site-packages/seaborn/axisgrid.py:2036: UserWarning: The marginal plotting function has changed to `histplot`, which does not accept the following argument(s): rug.\n",
      "  warnings.warn(msg, UserWarning)\n"
     ]
    },
    {
     "data": {
      "image/png": "[encoded data removed]",
      "text/plain": [
       "<Figure size 288x288 with 3 Axes>"
      ]
     },
     "metadata": {
      "needs_background": "light"
     },
     "output_type": "display_data"
    }
   ],
   "source": [
    "#set the value globally\n",
    "plt.rcParams['axes.linewidth'] = 1 \n",
    "\n",
    "g = sns.jointplot(x=WT_sum,\n",
    "                  y=var_sum,\n",
    "                  kind='scatter',\n",
    "                  height=4,\n",
    "                  space=0.2,\n",
    "                  ratio=5,\n",
    "                  color='blue',\n",
    "                  alpha=0.2,\n",
    "                  edgecolor='k',\n",
    "                  marginal_kws=dict(bins=np.arange(0,1850,50), rug=True),\n",
    "                  xlim=(-50,1850), ylim=(-50,1850),\n",
    "                  marginal_ticks=False\n",
    "              )\n",
    "\n",
    "g.ax_joint.set_xlim((-50,2000))\n",
    "g.ax_joint.set_ylim((-50,2000))\n",
    "g.ax_joint.set_xticks(np.arange(0,2500,500))\n",
    "g.ax_joint.set_yticks(np.arange(0,2500,500))\n",
    "\n",
    "x=np.arange(-50,2000,1)\n",
    "y=np.arange(-50,2000,1)\n",
    "g.ax_joint.plot(x,y, color='k',linestyle='dashed')\n",
    "\n",
    "\n",
    "#savefig\n",
    "#Note, still slightly taller than wide, correct this in illustrator\n",
    "plt.savefig('/Users/mja/Appel_MutSequencing/2021_mut_seq_workup_II/analyses_from_py_notebooks/with_unpaired/mutant_calling/scatter/read-sums/20210610_plates_1-13_'\\\n",
    "                            +str(len(scatterDF))+\"_intended_\" \\\n",
    "                            +str(numUnique)+\"_unique_\" \\\n",
    "                            +str(filter_level) \\\n",
    "                            +'_threshold_reads_jointplot.png')\n",
    "\n",
    "plt.savefig('/Users/mja/Appel_MutSequencing/2021_mut_seq_workup_II/analyses_from_py_notebooks/with_unpaired/mutant_calling/scatter/read-sums/20210610_plates_1-13_'\\\n",
    "                            +str(len(scatterDF))+\"_intended_\" \\\n",
    "                            +str(numUnique)+\"_unique_\" \\\n",
    "                            +str(filter_level) \\\n",
    "                            +'_threshold_reads_jointplot.pdf')"
   ]
  },
  {
   "cell_type": "code",
   "execution_count": 779,
   "metadata": {},
   "outputs": [
    {
     "name": "stdout",
     "output_type": "stream",
     "text": [
      "1996\n"
     ]
    }
   ],
   "source": [
    "print (len(var_sum))"
   ]
  },
  {
   "cell_type": "code",
   "execution_count": 780,
   "metadata": {},
   "outputs": [
    {
     "data": {
      "image/png": "[encoded data removed]",
      "text/plain": [
       "<Figure size 288x216 with 1 Axes>"
      ]
     },
     "metadata": {
      "needs_background": "light"
     },
     "output_type": "display_data"
    }
   ],
   "source": [
    "plt.figure(figsize=(4,3))\n",
    "plt.hist(WTsum, bins=10, alpha=0.5, color='gray', edgecolor='k',label=\"sum of WT reads\")\n",
    "plt.hist(var_sum, bins=10, alpha=0.5, color='blue',edgecolor='k', label=\"sum of var reads\")\n",
    "plt.legend(loc='upper right')\n",
    "plt.xlabel(\"sum of forward and reverse reads at variant position)\")\n",
    "plt.ylabel(\"variant reads at position of variant (count)\")\n",
    "plt.tight_layout()"
   ]
  },
  {
   "cell_type": "markdown",
   "metadata": {},
   "source": [
    "## 4. Plot frequency and location of single mutants across entire ORF (FIGURE 7)"
   ]
  },
  {
   "cell_type": "code",
   "execution_count": 786,
   "metadata": {},
   "outputs": [
    {
     "name": "stdout",
     "output_type": "stream",
     "text": [
      "[('codon', '') ('counts', True)]\n"
     ]
    }
   ],
   "source": [
    "##Next, want to sum counts of True and False for each unique codon position\n",
    "\n",
    "#this operation will group rows by codon position AND whether intended substitution column is\n",
    "#True or False at that codon, then, count number of each occurence per codon and place in a new column\n",
    "combinedDF_counts=intendedOnlyDF.groupby(by=['codon','intended']).agg('count')[['new_AA']].rename(columns={'new_AA':'counts'})\n",
    "\n",
    "\n",
    "#pivot operation transforms values of the intended column (true or false) into new columns, whose values\n",
    "#are counts for each codon. Codons that a present at least once but lacking a True or False count will return\n",
    "#NaN, which is filled by 0\n",
    "combinedDF_counts_pivot=pd.pivot_table(combinedDF_counts.reset_index(), values = ['counts'], index=['codon'], columns=['intended']).fillna(0)\n",
    "\n",
    "#reset index so codons can easily be saved to a list (harder to do this without this step because still a multi-index DF)\n",
    "combinedDF_counts_pivot_reset = combinedDF_counts_pivot.reset_index()\n",
    "\n",
    "#get names of each multi-indexed column\n",
    "print(combinedDF_counts_pivot_reset.columns.values)"
   ]
  },
  {
   "cell_type": "code",
   "execution_count": 787,
   "metadata": {},
   "outputs": [],
   "source": [
    "##Not all desired mutated codons were observed, so not listed in dataframe, however, \n",
    "#want to plot mutant frequencies across all desired positions, simple way to do this is to create a dataframe\n",
    "#listing all codon positions and joining it to dataframe with codon/true/false columns\n",
    "\n",
    "\n",
    "#make lists of codons and true/false counts and add to new dataframe, easier to do this\n",
    "#than manipulate multi-index df from above\n",
    "\n",
    "#extract columns as lists\n",
    "codon_pos=combinedDF_counts_pivot_reset[('codon', '')].tolist()\n",
    "true_counts=combinedDF_counts_pivot_reset[('counts', True)].tolist()\n",
    "#add to new df\n",
    "summaryDF=pd.DataFrame()\n",
    "summaryDF['codon']=codon_pos\n",
    "summaryDF['true_counts']=true_counts\n",
    "summaryDF.set_index('codon', inplace=True)\n",
    "\n",
    "\n",
    "#create list containing all mutated positions of interest for plotting (only enzyme and eGFP containing ORF)\n",
    "all_pos_list=np.arange(1, 790)\n",
    "#add to new df\n",
    "blanksDF=pd.DataFrame(data={'codon':all_pos_list})\n",
    "blanksDF.set_index('codon', inplace=True)\n",
    "\n",
    "#join with blanks df outer (opposite way will toss out codons missing from summaryDF)\n",
    "plottingDF=blanksDF.join(summaryDF)\n",
    "\n",
    "#finally, extract columns of this df to lists for bar plotting\n",
    "codonList=plottingDF.index.tolist()\n",
    "trueList=plottingDF['true_counts'].tolist()"
   ]
  },
  {
   "cell_type": "code",
   "execution_count": 283,
   "metadata": {},
   "outputs": [
    {
     "data": {
      "image/png": "[encoded data removed]",
      "text/plain": [
       "<Figure size 432x288 with 1 Axes>"
      ]
     },
     "metadata": {
      "needs_background": "light"
     },
     "output_type": "display_data"
    }
   ],
   "source": [
    "#define data used for each stack of stacked bar plot\n",
    "p1 = plt.bar(codonList, trueList, width=1, color='gray')\n",
    "\n",
    "plt.ylabel('count')\n",
    "plt.xlabel('Codon position (SpAP: 1-541, eGFP: 552-790)')\n",
    "\n",
    "plt.title('Location and frequency of intended point mutants\\n(507 postions: 1996 barcodes, no threshold)\\nmax=29')\n",
    "plt.yticks([0,5,10,15,20,25,30])\n",
    "plt.ylim(0,17)\n",
    "plt.xlim(-5,550)\n",
    "plt.tight_layout()\n",
    "\n",
    "\n",
    "#save fig\n",
    "plt.savefig('/Users/mja/Appel_MutSequencing/2021_mut_seq_workup_II/analyses_from_py_notebooks/with_unpaired/mutant_calling/csv_files/single_mutant_yield_plots/20210607_single_mutant_count_ORF_bar_plates_1-13.png')\n",
    "plt.savefig('/Users/mja/Appel_MutSequencing/2021_mut_seq_workup_II/analyses_from_py_notebooks/with_unpaired/mutant_calling/csv_files/single_mutant_yield_plots/20210607_single_mutant_count_ORF_bar_plates_1-13.pdf')\n",
    "plt.savefig('/Users/mja/Appel_MutSequencing/2021_mut_seq_workup_II/analyses_from_py_notebooks/with_unpaired/mutant_calling/csv_files/single_mutant_yield_plots/20210607_single_mutant_count_ORF_bar_plates_1-13.eps')"
   ]
  },
  {
   "cell_type": "code",
   "execution_count": 788,
   "metadata": {},
   "outputs": [
    {
     "name": "stdout",
     "output_type": "stream",
     "text": [
      "41\n",
      "89\n",
      "137\n",
      "185\n",
      "232\n",
      "279\n",
      "326\n",
      "356\n",
      "402\n",
      "448\n",
      "491\n",
      "517\n",
      "542\n"
     ]
    },
    {
     "data": {
      "image/png": "[encoded data removed]",
      "text/plain": [
       "<Figure size 432x288 with 2 Axes>"
      ]
     },
     "metadata": {
      "needs_background": "light"
     },
     "output_type": "display_data"
    }
   ],
   "source": [
    "#define residue boundaries of mutational region (only intended mutants are included)\n",
    "mutationD={1:[2,41],\n",
    "           2:[42,89],\n",
    "           3:[90,137],\n",
    "           4:[138,185],\n",
    "           5:[186,232],\n",
    "           6:[233,279],\n",
    "           7:[280,326],\n",
    "           8:[327,356],\n",
    "           9:[357,402],\n",
    "           10:[403,448],\n",
    "           11:[449,491],\n",
    "           12:[492,517],\n",
    "           13:[518,542]\n",
    "          }\n",
    "\n",
    "from matplotlib import gridspec\n",
    "\n",
    "fig, (ax1, ax2) = plt.subplots(2, 1, sharex=True)\n",
    "fig.subplots_adjust(hspace=0.01)  # adjust space between axes\n",
    "gs = gridspec.GridSpec(2, 1, height_ratios=[1, 3.2]) \n",
    "ax1 = plt.subplot(gs[0])\n",
    "ax2 = plt.subplot(gs[1])\n",
    "\n",
    "for index, val in mutationD.items():\n",
    "    #get list subsets corresponding to each sublibrary window\n",
    "    subsetCodonL=codonList[(val[0]-1):val[1]]\n",
    "    subsetTrueL=np.nan_to_num(np.array(trueList[(val[0]-1):val[1]]))\n",
    "    print(val[1])\n",
    "    #add vertical line at end of sublibrary\n",
    "    ax2.axvline(val[1], ymin=0.85, ymax=0.9,color='black', alpha=1, zorder=0, linewidth=1)\n",
    "#     ax2.axvline(val[1], color='gray', alpha=1, zorder=0, linewidth=1, linestyle='dashed')\n",
    "\n",
    "\n",
    "    #plot each sublibrary, vary color based on odd/even\n",
    "    if index % 2 != 0:\n",
    "        ax1.bar(subsetCodonL, subsetTrueL, width=1, color='gray', alpha=1, zorder=2)\n",
    "        ax2.bar(subsetCodonL, subsetTrueL, width=1, color='gray', alpha=1, zorder=2)\n",
    "    else:\n",
    "        ax1.bar(subsetCodonL, subsetTrueL, width=1, color='gray', alpha=1, zorder=2)\n",
    "        ax2.bar(subsetCodonL, subsetTrueL, width=1, color='gray', alpha=1, zorder=2)        \n",
    "\n",
    "# zoom-in / limit the view to different portions of the data\n",
    "ax1.set_ylim(25, 30)  # outliers only\n",
    "ax2.set_ylim(0, 16.5)  # most of the data        \n",
    "        \n",
    "# hide the spines between ax and ax2\n",
    "# ax1.spines.bottom.set_visible(False)\n",
    "# ax2.spines.top.set_visible(False)\n",
    "ax1.xaxis.tick_top()\n",
    "ax1.tick_params(labeltop=False)  # don't put tick labels at the top\n",
    "ax2.xaxis.tick_bottom()\n",
    "\n",
    "d = .5  # proportion of vertical to horizontal extent of the slanted line\n",
    "kwargs = dict(marker=[(-1, -d), (1, d)], markersize=10,\n",
    "              linestyle=\"none\", color='k', mec='k', mew=1, clip_on=False)\n",
    "ax1.plot([0, 1], [0, 0], transform=ax1.transAxes, **kwargs)\n",
    "ax2.plot([0, 1], [1, 1], transform=ax2.transAxes, **kwargs)\n",
    "\n",
    "\n",
    "#edit plot\n",
    "plt.ylabel('count')\n",
    "plt.xlabel('Codon position (SpAP: 1-541, eGFP: 552-790)')\n",
    "ax1.set_yticks([25,30])\n",
    "ax2.set_yticks([0,5,10,15])\n",
    "\n",
    "\n",
    "# plt.ylim(0,32)\n",
    "plt.xlim(-5,550)\n",
    "plt.tight_layout()\n",
    "\n",
    "\n",
    "# #save fig\n",
    "plt.savefig('/Users/mja/Appel_MutSequencing/2021_mut_seq_workup_II/analyses_from_py_notebooks/with_unpaired/mutant_calling/csv_files/single_mutant_yield_plots/20210607_single_mutant_count_ORF_bar_plates_1-13_sublib_grid_broken.png')\n",
    "plt.savefig('/Users/mja/Appel_MutSequencing/2021_mut_seq_workup_II/analyses_from_py_notebooks/with_unpaired/mutant_calling/csv_files/single_mutant_yield_plots/20210607_single_mutant_count_ORF_bar_plates_1-13_sublib_grid_broken.pdf')"
   ]
  },
  {
   "cell_type": "markdown",
   "metadata": {},
   "source": [
    "## Plot frequency distribution of number of single mutants per position"
   ]
  },
  {
   "cell_type": "code",
   "execution_count": 789,
   "metadata": {},
   "outputs": [
    {
     "data": {
      "image/png": "[encoded data removed]",
      "text/plain": [
       "<Figure size 144x144 with 1 Axes>"
      ]
     },
     "metadata": {
      "needs_background": "light"
     },
     "output_type": "display_data"
    }
   ],
   "source": [
    "#set the value globally\n",
    "plt.rcParams['axes.linewidth'] = 1 \n",
    "from matplotlib.pyplot import figure\n",
    "figure(figsize=(2,2))\n",
    "\n",
    "#select only segment of freq list used in above figure that contains SpAP ORF\n",
    "spapORFfreqs=np.array(trueList[1:542])\n",
    "\n",
    "#convert nan to 0\n",
    "spapORFfreqs=np.nan_to_num(spapORFfreqs)\n",
    "\n",
    "\n",
    "plt.hist(spapORFfreqs, bins=np.arange(-0.5,31.5,1), color='gray',edgecolor='k', width=1.0)\n",
    "plt.xlim(-0.5,30.5)\n",
    "plt.xticks(np.arange(0,35,5));\n",
    "plt.ylim(0,125)\n",
    "plt.xlabel('single mutants per position')\n",
    "plt.ylabel('count')\n",
    "\n",
    "plt.savefig('/Users/mja/Appel_MutSequencing/2021_mut_seq_workup_II/analyses_from_py_notebooks/with_unpaired/comparison_with_simulations/mutants_per_pos/20210609_single_mut_per_pos_1996-507.png')\n",
    "plt.savefig('/Users/mja/Appel_MutSequencing/2021_mut_seq_workup_II/analyses_from_py_notebooks/with_unpaired/comparison_with_simulations/mutants_per_pos/20210609_single_mut_per_pos_1996-507.pdf')"
   ]
  },
  {
   "cell_type": "code",
   "execution_count": 790,
   "metadata": {},
   "outputs": [
    {
     "data": {
      "text/plain": [
       "1996.0"
      ]
     },
     "execution_count": 790,
     "metadata": {},
     "output_type": "execute_result"
    }
   ],
   "source": [
    "spapORFfreqs.sum()"
   ]
  },
  {
   "cell_type": "code",
   "execution_count": null,
   "metadata": {},
   "outputs": [],
   "source": []
  }
 ],
 "metadata": {
  "kernelspec": {
   "display_name": "Python 3",
   "language": "python",
   "name": "python3"
  },
  "language_info": {
   "codemirror_mode": {
    "name": "ipython",
    "version": 3
   },
   "file_extension": ".py",
   "mimetype": "text/x-python",
   "name": "python",
   "nbconvert_exporter": "python",
   "pygments_lexer": "ipython3",
   "version": "3.8.5"
  }
 },
 "nbformat": 4,
 "nbformat_minor": 4
}
